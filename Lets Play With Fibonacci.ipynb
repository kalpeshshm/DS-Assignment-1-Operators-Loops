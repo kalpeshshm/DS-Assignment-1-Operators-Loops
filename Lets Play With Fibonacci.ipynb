{
 "cells": [
  {
   "cell_type": "markdown",
   "id": "87803912",
   "metadata": {},
   "source": [
    "# Problem Statement"
   ]
  },
  {
   "cell_type": "markdown",
   "id": "cb99903b",
   "metadata": {},
   "source": [
    "# Assignment problem"
   ]
  },
  {
   "cell_type": "markdown",
   "id": "798e1ccc",
   "metadata": {},
   "source": [
    "# 1. Write a Python program to get the Fibonacci series between 0 to 50.\n",
    "\n"
   ]
  },
  {
   "cell_type": "code",
   "execution_count": 3,
   "id": "66738d10",
   "metadata": {},
   "outputs": [
    {
     "name": "stdout",
     "output_type": "stream",
     "text": [
      "1 1 2 3 5 8 13 21 34 "
     ]
    }
   ],
   "source": [
    "f,s = 0 ,1 \n",
    "while s<50:\n",
    "    print(s,end=' ')\n",
    "    f,s=s,f+s"
   ]
  }
 ],
 "metadata": {
  "kernelspec": {
   "display_name": "Python 3 (ipykernel)",
   "language": "python",
   "name": "python3"
  },
  "language_info": {
   "codemirror_mode": {
    "name": "ipython",
    "version": 3
   },
   "file_extension": ".py",
   "mimetype": "text/x-python",
   "name": "python",
   "nbconvert_exporter": "python",
   "pygments_lexer": "ipython3",
   "version": "3.10.0"
  }
 },
 "nbformat": 4,
 "nbformat_minor": 5
}
