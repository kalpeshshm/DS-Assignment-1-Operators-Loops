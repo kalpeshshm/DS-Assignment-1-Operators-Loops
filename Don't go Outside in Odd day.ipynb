{
 "cells": [
  {
   "cell_type": "markdown",
   "id": "95e18fc2",
   "metadata": {},
   "source": [
    "# Problem Statement"
   ]
  },
  {
   "cell_type": "markdown",
   "id": "db8e2d24",
   "metadata": {},
   "source": [
    "# 3.Write a Python program to count the number of even and odd numbers from a series of numbers.\n",
    "\n"
   ]
  },
  {
   "cell_type": "code",
   "execution_count": 1,
   "id": "626afc35",
   "metadata": {},
   "outputs": [
    {
     "name": "stdout",
     "output_type": "stream",
     "text": [
      "Number of even numbers: 4\n",
      "Number of odd numbers: 5\n"
     ]
    }
   ],
   "source": [
    "num = (1,2,3,4,5,6,7,8,9)\n",
    "odd=0\n",
    "even=0\n",
    "for i in num:\n",
    "    if not i % 2:\n",
    "        even+=1\n",
    "    else:\n",
    "        odd+=1\n",
    "print('Number of even numbers:',even)\n",
    "print('Number of odd numbers:',odd)"
   ]
  }
 ],
 "metadata": {
  "kernelspec": {
   "display_name": "Python 3 (ipykernel)",
   "language": "python",
   "name": "python3"
  },
  "language_info": {
   "codemirror_mode": {
    "name": "ipython",
    "version": 3
   },
   "file_extension": ".py",
   "mimetype": "text/x-python",
   "name": "python",
   "nbconvert_exporter": "python",
   "pygments_lexer": "ipython3",
   "version": "3.10.0"
  }
 },
 "nbformat": 4,
 "nbformat_minor": 5
}
